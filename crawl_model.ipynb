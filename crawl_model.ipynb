{
 "cells": [
  {
   "cell_type": "code",
   "execution_count": 87,
   "metadata": {
    "notebookRunGroups": {
     "groupValue": "1"
    }
   },
   "outputs": [
    {
     "data": {
      "text/plain": [
       "True"
      ]
     },
     "execution_count": 87,
     "metadata": {},
     "output_type": "execute_result"
    }
   ],
   "source": [
    "from dotenv import load_dotenv, find_dotenv\n",
    "load_dotenv(find_dotenv()) # read local .env file, where OPENAI_API_KEY is put"
   ]
  },
  {
   "cell_type": "code",
   "execution_count": 1,
   "metadata": {
    "notebookRunGroups": {
     "groupValue": "1"
    }
   },
   "outputs": [],
   "source": [
    "from src.crawl import search_hf_hub_page_for_id_list, search_hf_hub_repo_for_card\n",
    "from src.io import save_id_list, save_failed_pages, save_cards, save_failed_repos"
   ]
  },
  {
   "cell_type": "markdown",
   "metadata": {},
   "source": [
    "#### step1. crawl the model id list from hf model hub pages"
   ]
  },
  {
   "cell_type": "code",
   "execution_count": 50,
   "metadata": {},
   "outputs": [],
   "source": [
    "model_ids, failed_pages = search_hf_hub_page_for_id_list(page=(1,1000), type='model')"
   ]
  },
  {
   "cell_type": "code",
   "execution_count": 3,
   "metadata": {},
   "outputs": [
    {
     "data": {
      "text/plain": [
       "(23520, 234)"
      ]
     },
     "execution_count": 3,
     "metadata": {},
     "output_type": "execute_result"
    }
   ],
   "source": [
    "len(model_ids), len(failed_pages)"
   ]
  },
  {
   "cell_type": "code",
   "execution_count": 4,
   "metadata": {},
   "outputs": [
    {
     "data": {
      "text/plain": [
       "(24420, 204)"
      ]
     },
     "execution_count": 4,
     "metadata": {},
     "output_type": "execute_result"
    }
   ],
   "source": [
    "new_model_ids, failed_pages = search_hf_hub_page_for_id_list(page=failed_pages, type='model')\n",
    "model_ids += new_model_ids\n",
    "len(model_ids), len(failed_pages)"
   ]
  },
  {
   "cell_type": "code",
   "execution_count": 9,
   "metadata": {},
   "outputs": [
    {
     "name": "stdout",
     "output_type": "stream",
     "text": [
      "\n",
      "Saved the model id list to ./data/model_ids.json\n",
      "Saved the model failed pages to ./data/model_failed_pages.json\n",
      "\n"
     ]
    }
   ],
   "source": [
    "save_id_list(model_ids, data_root='./data' type='model')\n",
    "save_failed_pages(failed_pages, data_root='./data', type='model')"
   ]
  },
  {
   "cell_type": "markdown",
   "metadata": {},
   "source": [
    "#### step2. crawl the model card text from hf model repos"
   ]
  },
  {
   "cell_type": "code",
   "execution_count": 167,
   "metadata": {},
   "outputs": [
    {
     "name": "stdout",
     "output_type": "stream",
     "text": [
      "Model Summary\n",
      "Phi-2 is a Transformer with 2.7 billion parameters. It was trained using the same data sources as Phi-1.5, augmented with a new data source that consists of various NLP synthetic texts and filtered websites (for safety and educational value). When assessed against benchmarks testing common sense, language understanding, and logical reasoning, Phi-2 showcased a nearly state-of-the-art performance among models with less than 13 billion parameters.\n",
      "Our model hasn't been fine-tuned through reinforcement learning from human feedback. The intention behind crafting this open-source model is to provide the research community with a non-restricted small model to explore vital safety challenges, such as reducing toxicity, understanding societal biases, enhancing controllability, and more.\n",
      "Intended Uses\n",
      "Given the nature of the training data, the Phi-2 model is best suited for prompts using the QA format, the chat format, and the code format.\n",
      "QA Format:\n",
      "You can provide the prompt as a standalone question as follows:\n",
      "Write a detailed analogy between mathematics and a lighthouse.\n",
      "where the model generates the text after \".\" . To encourage the model to write more concise answers, you can also try the following QA format using \"Instruct: <prompt>\\nOutput:\"\n",
      "Instruct: Write a detailed analogy between mathematics and a lighthouse.\n",
      "Output: Mathematics is like a lighthouse. Just as a lighthouse guides ships safely to shore, mathematics provides a guiding light in the world of numbers and logic. It helps us navigate through complex problems and find solutions. Just as a lighthouse emits a steady beam of light, mathematics provides a consistent framework for reasoning and problem-solving. It illuminates the path to understanding and helps us make sense of the world around us.\n",
      "where the model generates the text after \"Output:\".\n",
      "Chat Format:\n",
      "Alice: I don't know why, I'm struggling to maintain focus while studying. Any suggestions?\n",
      "Bob: Well, have you tried creating a study schedule and sticking to it?\n",
      "Alice: Yes, I have, but it doesn't seem to help much.\n",
      "Bob: Hmm, maybe you should try studying in a quiet environment, like the library.\n",
      "Alice: ...\n",
      "where the model generates the text after the first \"Bob:\".\n",
      "Code Format:\n",
      "def print_prime(n):\n",
      "   \"\"\"\n",
      "   Print all primes between 1 and n\n",
      "   \"\"\"\n",
      "   primes = []\n",
      "   for num in range(2, n+1):\n",
      "       is_prime = True\n",
      "       for i in range(2, int(math.sqrt(num))+1):\n",
      "           if num % i == 0:\n",
      "               is_prime = False\n",
      "               break\n",
      "       if is_prime:\n",
      "           primes.append(num)\n",
      "   print(primes)\n",
      "where the model generates the text after the comments.\n",
      "Notes:\n",
      "Phi-2 is intended for QA, chat, and code purposes. The model-generated text/code should be treated as a starting point rather than a definitive solution for potential use cases. Users should be cautious when employing these models in their applications.\n",
      "Direct adoption for production tasks without evaluation is out of scope of this project. As a result, the Phi-2 model has not been tested to ensure that it performs adequately for any production-level application. Please refer to the limitation sections of this document for more details.\n",
      "If you are using transformers>=4.36.0, always load the model with trust_remote_code=True to prevent side-effects.\n",
      "Sample Code\n",
      "There are four types of execution mode:\n",
      "FP16 / Flash-Attention / CUDA:\n",
      "model = AutoModelForCausalLM.from_pretrained(\"microsoft/phi-2\", torch_dtype=\"auto\", flash_attn=True, flash_rotary=True, fused_dense=True, device_map=\"cuda\", trust_remote_code=True)\n",
      "FP16 / CUDA:\n",
      "model = AutoModelForCausalLM.from_pretrained(\"microsoft/phi-2\", torch_dtype=\"auto\", device_map=\"cuda\", trust_remote_code=True)\n",
      "FP32 / CUDA:\n",
      "model = AutoModelForCausalLM.from_pretrained(\"microsoft/phi-2\", torch_dtype=torch.float32, device_map=\"cuda\", trust_remote_code=True)\n",
      "FP32 / CPU:\n",
      "model = AutoModelForCausalLM.from_pretrained(\"microsoft/phi-2\", torch_dtype=torch.float32, device_map=\"cpu\", trust_remote_code=True)\n",
      "To ensure the maximum compatibility, we recommend using the second execution mode (FP16 / CUDA), as follows:\n",
      "import torch\n",
      "from transformers import AutoModelForCausalLM, AutoTokenizer\n",
      "\n",
      "torch.set_default_device(\"cuda\")\n",
      "\n",
      "model = AutoModelForCausalLM.from_pretrained(\"microsoft/phi-2\", torch_dtype=\"auto\", trust_remote_code=True)\n",
      "tokenizer = AutoTokenizer.from_pretrained(\"microsoft/phi-2\", trust_remote_code=True)\n",
      "\n",
      "inputs = tokenizer('''def print_prime(n):\n",
      "   \"\"\"\n",
      "   Print all primes between 1 and n\n",
      "   \"\"\"''', return_tensors=\"pt\", return_attention_mask=False)\n",
      "\n",
      "outputs = model.generate(**inputs, max_length=200)\n",
      "text = tokenizer.batch_decode(outputs)[0]\n",
      "print(text)\n",
      "Remark: In the generation function, our model currently does not support beam search (num_beams > 1). Furthermore, in the forward pass of the model, we currently do not support outputting hidden states or attention values, or using custom input embeddings.\n",
      "Limitations of Phi-2\n",
      "Generate Inaccurate Code and Facts: The model may produce incorrect code snippets and statements. Users should treat these outputs as suggestions or starting points, not as definitive or accurate solutions.\n",
      "Limited Scope for code: Majority of Phi-2 training data is based in Python and use common packages such as \"typing, math, random, collections, datetime, itertools\". If the model generates Python scripts that utilize other packages or scripts in other languages, we strongly recommend users manually verify all API uses.\n",
      "Unreliable Responses to Instruction: The model has not undergone instruction fine-tuning. As a result, it may struggle or fail to adhere to intricate or nuanced instructions provided by users.\n",
      "Language Limitations: The model is primarily designed to understand standard English. Informal English, slang, or any other languages might pose challenges to its comprehension, leading to potential misinterpretations or errors in response.\n",
      "Potential Societal Biases: Phi-2 is not entirely free from societal biases despite efforts in assuring training data safety. There's a possibility it may generate content that mirrors these societal biases, particularly if prompted or instructed to do so. We urge users to be aware of this and to exercise caution and critical thinking when interpreting model outputs.\n",
      "Toxicity: Despite being trained with carefully selected data, the model can still produce harmful content if explicitly prompted or instructed to do so. We chose to release the model to help the open-source community develop the most effective ways to reduce the toxicity of a model directly after pretraining.\n",
      "Verbosity: Phi-2 being a base model often produces irrelevant or extra text and responses following its first answer to user prompts within a single turn. This is due to its training dataset being primarily textbooks, which results in textbook-like responses.\n",
      "Training\n",
      "Model\n",
      "Architecture: a Transformer-based model with next-word prediction objective\n",
      "Context length: 2048 tokens\n",
      "Dataset size: 250B tokens, combination of NLP synthetic data created by AOAI GPT-3.5 and filtered web data from Falcon RefinedWeb and SlimPajama, which was assessed by AOAI GPT-4.\n",
      "Training tokens: 1.4T tokens\n",
      "GPUs: 96xA100-80G\n",
      "Training time: 14 days\n",
      "Software\n",
      "PyTorch\n",
      "DeepSpeed\n",
      "Flash-Attention\n",
      "License\n",
      "The model is licensed under the MIT license.\n",
      "Trademarks\n",
      "This project may contain trademarks or logos for projects, products, or services. Authorized use of Microsoft trademarks or logos is subject to and must follow Microsoft’s Trademark & Brand Guidelines. Use of Microsoft trademarks or logos in modified versions of this project must not cause confusion or imply Microsoft sponsorship. Any use of third-party trademarks or logos are subject to those third-party’s policies.\n"
     ]
    }
   ],
   "source": [
    "model_card_text, _ = search_hf_hub_repo_for_card(model_ids[0], \n",
    "                                                 search_type='simple')\n",
    "print(model_card_text)"
   ]
  },
  {
   "cell_type": "code",
   "execution_count": null,
   "metadata": {},
   "outputs": [],
   "source": [
    "start_idx = 0\n",
    "end_idx = 200 # len(model_ids)\n",
    "\n",
    "model_cards, failed_repos = search_hf_hub_repo_for_card(\n",
    "    repo=model_ids[start_idx:end_idx],\n",
    "    type='model'\n",
    ")"
   ]
  },
  {
   "cell_type": "code",
   "execution_count": 6,
   "metadata": {},
   "outputs": [
    {
     "data": {
      "text/plain": [
       "(200, 2)"
      ]
     },
     "execution_count": 6,
     "metadata": {},
     "output_type": "execute_result"
    }
   ],
   "source": [
    "len(model_cards), len(failed_repos)"
   ]
  },
  {
   "cell_type": "code",
   "execution_count": 7,
   "metadata": {},
   "outputs": [
    {
     "name": "stdout",
     "output_type": "stream",
     "text": [
      "Saved the model cards to ./data/model_cards.json\n",
      "Saved the model failed repos to ./data/model_failed_repos.json\n"
     ]
    }
   ],
   "source": [
    "save_cards(model_cards, data_root='./data', type='model')\n",
    "save_failed_repos(failed_repos, data_root='./data', type='model')"
   ]
  },
  {
   "cell_type": "code",
   "execution_count": null,
   "metadata": {},
   "outputs": [],
   "source": []
  }
 ],
 "metadata": {
  "kernelspec": {
   "display_name": "base",
   "language": "python",
   "name": "python3"
  },
  "language_info": {
   "codemirror_mode": {
    "name": "ipython",
    "version": 3
   },
   "file_extension": ".py",
   "mimetype": "text/x-python",
   "name": "python",
   "nbconvert_exporter": "python",
   "pygments_lexer": "ipython3",
   "version": "3.8.18"
  }
 },
 "nbformat": 4,
 "nbformat_minor": 2
}
