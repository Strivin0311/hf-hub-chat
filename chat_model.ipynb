{
 "cells": [
  {
   "cell_type": "markdown",
   "metadata": {},
   "source": [
    "### Chat with the model cards for some questions to ask"
   ]
  },
  {
   "cell_type": "markdown",
   "metadata": {},
   "source": [
    "#### step0. set up the environment and the dependencies"
   ]
  },
  {
   "cell_type": "code",
   "execution_count": 1,
   "metadata": {
    "notebookRunGroups": {
     "groupValue": "1"
    }
   },
   "outputs": [
    {
     "data": {
      "text/plain": [
       "True"
      ]
     },
     "execution_count": 1,
     "metadata": {},
     "output_type": "execute_result"
    }
   ],
   "source": [
    "import sys\n",
    "sys.path.append(\"..\")\n",
    "import warnings\n",
    "warnings.filterwarnings(\"ignore\")\n",
    "import os\n",
    "\n",
    "from dotenv import load_dotenv, find_dotenv\n",
    "load_dotenv(find_dotenv())"
   ]
  },
  {
   "cell_type": "markdown",
   "metadata": {},
   "source": [
    "#### step1. load the model cards"
   ]
  },
  {
   "cell_type": "code",
   "execution_count": 2,
   "metadata": {
    "notebookRunGroups": {
     "groupValue": "1"
    }
   },
   "outputs": [
    {
     "name": "stdout",
     "output_type": "stream",
     "text": [
      "Loading the model cards from ./data/model_cards.json\n",
      "There are 1300 model repo cards\n"
     ]
    }
   ],
   "source": [
    "from src.io import load_cards\n",
    "data_root = \"./data/\"\n",
    "\n",
    "model_cards = load_cards(data_root, \"model\")\n",
    "print(f\"There are {len(model_cards)} model repo cards\")"
   ]
  },
  {
   "cell_type": "code",
   "execution_count": 9,
   "metadata": {
    "notebookRunGroups": {
     "groupValue": "1"
    }
   },
   "outputs": [
    {
     "data": {
      "text/plain": [
       "(321, 783, 0)"
      ]
     },
     "execution_count": 9,
     "metadata": {},
     "output_type": "execute_result"
    }
   ],
   "source": [
    "from src.io import load_json\n",
    "\n",
    "ft_models = load_json(os.path.join(data_root, \"ft_models.json\"))\n",
    "pt_models = load_json(os.path.join(data_root, \"pt_models.json\"))\n",
    "failed_cards = load_json(os.path.join(data_root, \"chat_failed_model_cards.json\"))\n",
    "\n",
    "len(ft_models), len(pt_models), len(failed_cards)"
   ]
  },
  {
   "cell_type": "code",
   "execution_count": 3,
   "metadata": {},
   "outputs": [
    {
     "name": "stdout",
     "output_type": "stream",
     "text": [
      "\n",
      "========================= The model card for the repo address: https://huggingface.co/microsoft/phi-2 =========================\n",
      "\n",
      "Model Summary\n",
      "Phi-2 is a Transformer with 2.7 billion parameters. It was trained using the same data sources as Phi-1.5, augmented with a new data source that consists of various NLP synthetic texts and filtered websites (for safety and educational value). When assessed against benchmarks testing common sense, language understanding, and logical reasoning, Phi-2 showcased a nearly state-of-the-art performance among models with less than 13 billion parameters.\n",
      "Our model hasn't been fine-tuned through reinforcement learning from human feedback. The intention behind crafting this open-source model is to provide the research community with a non-restricted small model to explore vital safety challenges, such as reducing toxicity, understanding societal biases, enhancing controllability, and more.\n",
      "Intended Uses\n",
      "Given the nature of the training data, the Phi-2 model is best suited for prompts using the QA format, the chat format, and the code format.\n",
      "QA Format:\n",
      "You can provide the prompt as a standalone question as follows:\n",
      "Write a detailed analogy between mathematics and a lighthouse.\n",
      "where the model generates the text after \".\" . To encourage the model to write more concise answers, you can also try the following QA format using \"Instruct: <prompt>\\nOutput:\"\n",
      "Instruct: Write a detailed analogy between mathematics and a lighthouse.\n",
      "Output: Mathematics is like a lighthouse. Just as a lighthouse guides ships safely to shore, mathematics provides a guiding light in the world of numbers and logic. It helps us navigate through complex problems and find solutions. Just as a lighthouse emits a steady beam of light, mathematics provides a consistent framework for reasoning and problem-solving. It illuminates the path to understanding and helps us make sense of the world around us.\n",
      "where the model generates the text after \"Output:\".\n",
      "Chat Format:\n",
      "Alice: I don't know why, I'm struggling to maintain focus while studying. Any suggestions?\n",
      "Bob: Well, have you tried creating a study schedule and sticking to it?\n",
      "Alice: Yes, I have, but it doesn't seem to help much.\n",
      "Bob: Hmm, maybe you should try studying in a quiet environment, like the library.\n",
      "Alice: ...\n",
      "where the model generates the text after the first \"Bob:\".\n",
      "Code Format:\n",
      "def print_prime(n):\n",
      "   \"\"\"\n",
      "   Print all primes between 1 and n\n",
      "   \"\"\"\n",
      "   primes = []\n",
      "   for num in range(2, n+1):\n",
      "       is_prime = True\n",
      "       for i in range(2, int(math.sqrt(num))+1):\n",
      "           if num % i == 0:\n",
      "               is_prime = False\n",
      "               break\n",
      "       if is_prime:\n",
      "           primes.append(num)\n",
      "   print(primes)\n",
      "where the model generates the text after the comments.\n",
      "Notes:\n",
      "Phi-2 is intended for QA, chat, and code purposes. The model-generated text/code should be treated as a starting point rather than a definitive solution for potential use cases. Users should be cautious when employing these models in their applications.\n",
      "Direct adoption for production tasks without evaluation is out of scope of this project. As a result, the Phi-2 model has not been tested to ensure that it performs adequately for any production-level application. Please refer to the limitation sections of this document for more details.\n",
      "If you are using transformers>=4.36.0, always load the model with trust_remote_code=True to prevent side-effects.\n",
      "Sample Code\n",
      "There are four types of execution mode:\n",
      "FP16 / Flash-Attention / CUDA:\n",
      "model = AutoModelForCausalLM.from_pretrained(\"microsoft/phi-2\", torch_dtype=\"auto\", flash_attn=True, flash_rotary=True, fused_dense=True, device_map=\"cuda\", trust_remote_code=True)\n",
      "FP16 / CUDA:\n",
      "model = AutoModelForCausalLM.from_pretrained(\"microsoft/phi-2\", torch_dtype=\"auto\", device_map=\"cuda\", trust_remote_code=True)\n",
      "FP32 / CUDA:\n",
      "model = AutoModelForCausalLM.from_pretrained(\"microsoft/phi-2\", torch_dtype=torch.float32, device_map=\"cuda\", trust_remote_code=True)\n",
      "FP32 / CPU:\n",
      "model = AutoModelForCausalLM.from_pretrained(\"microsoft/phi-2\", torch_dtype=torch.float32, device_map=\"cpu\", trust_remote_code=True)\n",
      "To ensure the maximum compatibility, we recommend using the second execution mode (FP16 / CUDA), as follows:\n",
      "import torch\n",
      "from transformers import AutoModelForCausalLM, AutoTokenizer\n",
      "\n",
      "torch.set_default_device(\"cuda\")\n",
      "\n",
      "model = AutoModelForCausalLM.from_pretrained(\"microsoft/phi-2\", torch_dtype=\"auto\", trust_remote_code=True)\n",
      "tokenizer = AutoTokenizer.from_pretrained(\"microsoft/phi-2\", trust_remote_code=True)\n",
      "\n",
      "inputs = tokenizer('''def print_prime(n):\n",
      "   \"\"\"\n",
      "   Print all primes between 1 and n\n",
      "   \"\"\"''', return_tensors=\"pt\", return_attention_mask=False)\n",
      "\n",
      "outputs = model.generate(**inputs, max_length=200)\n",
      "text = tokenizer.batch_decode(outputs)[0]\n",
      "print(text)\n",
      "Remark: In the generation function, our model currently does not support beam search (num_beams > 1). Furthermore, in the forward pass of the model, we currently do not support outputting hidden states or attention values, or using custom input embeddings.\n",
      "Limitations of Phi-2\n",
      "Generate Inaccurate Code and Facts: The model may produce incorrect code snippets and statements. Users should treat these outputs as suggestions or starting points, not as definitive or accurate solutions.\n",
      "Limited Scope for code: Majority of Phi-2 training data is based in Python and use common packages such as \"typing, math, random, collections, datetime, itertools\". If the model generates Python scripts that utilize other packages or scripts in other languages, we strongly recommend users manually verify all API uses.\n",
      "Unreliable Responses to Instruction: The model has not undergone instruction fine-tuning. As a result, it may struggle or fail to adhere to intricate or nuanced instructions provided by users.\n",
      "Language Limitations: The model is primarily designed to understand standard English. Informal English, slang, or any other languages might pose challenges to its comprehension, leading to potential misinterpretations or errors in response.\n",
      "Potential Societal Biases: Phi-2 is not entirely free from societal biases despite efforts in assuring training data safety. There's a possibility it may generate content that mirrors these societal biases, particularly if prompted or instructed to do so. We urge users to be aware of this and to exercise caution and critical thinking when interpreting model outputs.\n",
      "Toxicity: Despite being trained with carefully selected data, the model can still produce harmful content if explicitly prompted or instructed to do so. We chose to release the model to help the open-source community develop the most effective ways to reduce the toxicity of a model directly after pretraining.\n",
      "Verbosity: Phi-2 being a base model often produces irrelevant or extra text and responses following its first answer to user prompts within a single turn. This is due to its training dataset being primarily textbooks, which results in textbook-like responses.\n",
      "Training\n",
      "Model\n",
      "Architecture: a Transformer-based model with next-word prediction objective\n",
      "Context length: 2048 tokens\n",
      "Dataset size: 250B tokens, combination of NLP synthetic data created by AOAI GPT-3.5 and filtered web data from Falcon RefinedWeb and SlimPajama, which was assessed by AOAI GPT-4.\n",
      "Training tokens: 1.4T tokens\n",
      "GPUs: 96xA100-80G\n",
      "Training time: 14 days\n",
      "Software\n",
      "PyTorch\n",
      "DeepSpeed\n",
      "Flash-Attention\n",
      "License\n",
      "The model is licensed under the MIT license.\n",
      "Trademarks\n",
      "This project may contain trademarks or logos for projects, products, or services. Authorized use of Microsoft trademarks or logos is subject to and must follow Microsoft’s Trademark & Brand Guidelines. Use of Microsoft trademarks or logos in modified versions of this project must not cause confusion or imply Microsoft sponsorship. Any use of third-party trademarks or logos are subject to those third-party’s policies.\n",
      "\n",
      "\n",
      "========================= The model card for the repo address: https://huggingface.co/TinyLlama/TinyLlama-1.1B-Chat-v1.0 =========================\n",
      "\n",
      "TinyLlama-1.1B\n",
      "https://github.com/jzhang38/TinyLlama\n",
      "The TinyLlama project aims to pretrain a 1.1B Llama model on 3 trillion tokens. With some proper optimization, we can achieve this within a span of \"just\" 90 days using 16 A100-40G GPUs 🚀🚀. The training has started on 2023-09-01.\n",
      "We adopted exactly the same architecture and tokenizer as Llama 2. This means TinyLlama can be plugged and played in many open-source projects built upon Llama. Besides, TinyLlama is compact with only 1.1B parameters. This compactness allows it to cater to a multitude of applications demanding a restricted computation and memory footprint.\n",
      "This Model\n",
      "This is the chat model finetuned on top of TinyLlama/TinyLlama-1.1B-intermediate-step-1431k-3T. We follow HF's Zephyr's training recipe. The model was \" initially fine-tuned on a variant of the UltraChat dataset, which contains a diverse range of synthetic dialogues generated by ChatGPT. We then further aligned the model with 🤗 TRL's DPOTrainer on the openbmb/UltraFeedback dataset, which contain 64k prompts and model completions that are ranked by GPT-4.\"\n",
      "How to use\n",
      "You will need the transformers>=4.34 Do check the TinyLlama github page for more information.\n",
      "# Install transformers from source - only needed for versions <= v4.34\n",
      "# pip install git+https://github.com/huggingface/transformers.git\n",
      "# pip install accelerate\n",
      "\n",
      "import torch\n",
      "from transformers import pipeline\n",
      "\n",
      "pipe = pipeline(\"text-generation\", model=\"TinyLlama/TinyLlama-1.1B-Chat-v1.0\", torch_dtype=torch.bfloat16, device_map=\"auto\")\n",
      "\n",
      "# We use the tokenizer's chat template to format each message - see https://huggingface.co/docs/transformers/main/en/chat_templating\n",
      "messages = [\n",
      "    {\n",
      "        \"role\": \"system\",\n",
      "        \"content\": \"You are a friendly chatbot who always responds in the style of a pirate\",\n",
      "    },\n",
      "    {\"role\": \"user\", \"content\": \"How many helicopters can a human eat in one sitting?\"},\n",
      "]\n",
      "prompt = pipe.tokenizer.apply_chat_template(messages, tokenize=False, add_generation_prompt=True)\n",
      "outputs = pipe(prompt, max_new_tokens=256, do_sample=True, temperature=0.7, top_k=50, top_p=0.95)\n",
      "print(outputs[0][\"generated_text\"])\n",
      "# <|system|>\n",
      "# You are a friendly chatbot who always responds in the style of a pirate.</s>\n",
      "# <|user|>\n",
      "# How many helicopters can a human eat in one sitting?</s>\n",
      "# <|assistant|>\n",
      "# ...\n",
      "\n"
     ]
    }
   ],
   "source": [
    "from src.utils import show_cards\n",
    "\n",
    "show_cards(model_cards, type=\"model\", num=2, sample=\"head\")"
   ]
  },
  {
   "cell_type": "markdown",
   "metadata": {},
   "source": [
    "#### step2. chat with the model cards for finding the fine-tuned models"
   ]
  },
  {
   "cell_type": "code",
   "execution_count": 4,
   "metadata": {},
   "outputs": [
    {
     "data": {
      "text/plain": [
       "1104"
      ]
     },
     "execution_count": 4,
     "metadata": {},
     "output_type": "execute_result"
    }
   ],
   "source": [
    "query_cards = {k: v for k,v in model_cards.items() if k not in ft_models and k not in pt_models and k not in failed_cards}\n",
    "len(query_cards)"
   ]
  },
  {
   "cell_type": "code",
   "execution_count": 5,
   "metadata": {},
   "outputs": [
    {
     "name": "stdout",
     "output_type": "stream",
     "text": [
      "\n",
      "========================= Chatting with the model from its card with the repo: runwayml/stable-diffusion-inpainting =========================\n",
      "\n",
      "NO, this model is not fine-tuned for specific downstream tasks like classification, summarization, translation, code generation, or math-problem solving. It is primarily designed for text-to-image generation and inpainting.\n",
      "\n",
      "========================= Chatting with the model from its card with the repo: Salesforce/blip-image-captioning-base =========================\n",
      "\n",
      "YES, this model is fine-tuned for specific downstream tasks such as image-text retrieval, image captioning, and VQA (Visual Question Answering).\n",
      "\n",
      "========================= Chatting with the model from its card with the repo: tiiuae/falcon-7b =========================\n",
      "\n",
      "NO, Falcon-7B is not fine-tuned for specific downstream tasks like classification, summarization, translation, code generation, or math-problem solving.\n"
     ]
    }
   ],
   "source": [
    "from src.chat import chat_cards\n",
    "\n",
    "query_with_explanation = \"Is this model fine-tuned for some specific downstream tasks, \\\n",
    "like classificiation, summarization, translation, code generation, math-problem solving?\\n\\\n",
    "REMEMBER: the tasks like conversational chat, instruction following do NOT count\\n\\\n",
    "REMEMBER: the response should start with 'YES' or 'NO', and then follow a very brief explanation\"\n",
    "\n",
    "responses, failed_cards = chat_cards(\n",
    "    query=query_with_explanation,\n",
    "    cards={k: query_cards[k] for i, k in enumerate(query_cards) if i < 3}, # query_cards[:3]\n",
    "    type=\"model\",\n",
    "    llm=\"gpt-3.5-turbo-1106\",\n",
    "    mode=\"each\",\n",
    "    verbose=True, # with the response printed out for each card\n",
    "    process_bar='none'\n",
    ")"
   ]
  },
  {
   "cell_type": "code",
   "execution_count": 6,
   "metadata": {},
   "outputs": [
    {
     "data": {
      "application/vnd.jupyter.widget-view+json": {
       "model_id": "79eee0cf7ce843f49defe3ff3eac2bc6",
       "version_major": 2,
       "version_minor": 0
      },
      "text/plain": [
       "  0%|          | 0/1104 [00:00<?, ?it/s]"
      ]
     },
     "metadata": {},
     "output_type": "display_data"
    }
   ],
   "source": [
    "from src.chat import chat_cards\n",
    "\n",
    "query_binary = \"Is this model fine-tuned for some specific downstream tasks, \\\n",
    "like classificiation, summarization, translation, code generation, math-problem solving?\\n\\\n",
    "REMEMBER: the tasks like conversational chat, instruction following do NOT count\\n\\\n",
    "REMEMBER: the response should only contain 'YES' or 'NO', without any explanation\"\n",
    "\n",
    "responses, failed_cards = chat_cards(\n",
    "    query=query_binary,\n",
    "    cards=query_cards,\n",
    "    type=\"model\",\n",
    "    llm=\"gpt-3.5-turbo-1106\",\n",
    "    mode=\"each\",\n",
    "    verbose=False, # quietly\n",
    "    process_bar='notebook'\n",
    ")"
   ]
  },
  {
   "cell_type": "code",
   "execution_count": 7,
   "metadata": {},
   "outputs": [
    {
     "name": "stdout",
     "output_type": "stream",
     "text": [
      "There are 321 / 1104 models that are fine-tuned for some specific downstream tasks:\n"
     ]
    }
   ],
   "source": [
    "previous_cnt = len(ft_models)\n",
    "for resp in responses:\n",
    "    if resp['response'].startswith('YES'):\n",
    "        ft_models.append(resp['repo_addr'])\n",
    "    else:\n",
    "        pt_models.append(resp['repo_addr'])\n",
    "\n",
    "print(f\"There are {len(ft_models)-previous_cnt} / {len(responses)} models that are fine-tuned for some specific downstream tasks:\")"
   ]
  },
  {
   "cell_type": "code",
   "execution_count": 13,
   "metadata": {},
   "outputs": [],
   "source": [
    "from src.io import save_json\n",
    "\n",
    "save_json(ft_models, os.path.join(data_root, \"ft_models.json\"))\n",
    "save_json(pt_models, os.path.join(data_root, \"pt_models.json\"))\n",
    "save_json(failed_cards, os.path.join(data_root, \"chat_failed_model_cards.json\"))"
   ]
  },
  {
   "cell_type": "code",
   "execution_count": null,
   "metadata": {},
   "outputs": [],
   "source": []
  }
 ],
 "metadata": {
  "kernelspec": {
   "display_name": "base",
   "language": "python",
   "name": "python3"
  },
  "language_info": {
   "codemirror_mode": {
    "name": "ipython",
    "version": 3
   },
   "file_extension": ".py",
   "mimetype": "text/x-python",
   "name": "python",
   "nbconvert_exporter": "python",
   "pygments_lexer": "ipython3",
   "version": "3.11.5"
  }
 },
 "nbformat": 4,
 "nbformat_minor": 2
}
